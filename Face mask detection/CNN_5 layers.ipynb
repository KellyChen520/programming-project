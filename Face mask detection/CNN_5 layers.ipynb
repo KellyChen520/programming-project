{
  "cells": [
    {
      "cell_type": "markdown",
      "id": "bb412b83",
      "metadata": {
        "id": "bb412b83",
        "papermill": {
          "duration": 0.004871,
          "end_time": "2022-10-12T01:52:49.876066",
          "exception": false,
          "start_time": "2022-10-12T01:52:49.871195",
          "status": "completed"
        },
        "tags": []
      },
      "source": [
        "# Package"
      ]
    },
    {
      "cell_type": "code",
      "execution_count": 1,
      "id": "bc8237f5",
      "metadata": {
        "ExecuteTime": {
          "end_time": "2021-10-18T14:27:40.570439Z",
          "start_time": "2021-10-18T14:27:37.334991Z"
        },
        "_cell_guid": "b1076dfc-b9ad-4769-8c92-a6c4dae69d19",
        "_uuid": "8f2839f25d086af736a60e9eeb907d3b93b6e0e5",
        "colab": {
          "base_uri": "https://localhost:8080/",
          "height": 686
        },
        "execution": {
          "iopub.execute_input": "2021-09-07T18:38:35.884476Z",
          "iopub.status.busy": "2021-09-07T18:38:35.883752Z",
          "iopub.status.idle": "2021-09-07T18:38:35.895868Z",
          "shell.execute_reply": "2021-09-07T18:38:35.894884Z",
          "shell.execute_reply.started": "2021-09-07T18:38:35.884311Z"
        },
        "id": "bc8237f5",
        "outputId": "f0a771c6-92bf-4f64-8ccc-57d692cddba0",
        "papermill": {
          "duration": 0.003349,
          "end_time": "2022-10-12T01:52:49.883263",
          "exception": false,
          "start_time": "2022-10-12T01:52:49.879914",
          "status": "completed"
        },
        "tags": []
      },
      "outputs": [
        {
          "name": "stderr",
          "output_type": "stream",
          "text": [
            "c:\\Users\\pces1\\AppData\\Local\\Programs\\Python\\Python39\\lib\\site-packages\\tqdm\\auto.py:22: TqdmWarning: IProgress not found. Please update jupyter and ipywidgets. See https://ipywidgets.readthedocs.io/en/stable/user_install.html\n",
            "  from .autonotebook import tqdm as notebook_tqdm\n"
          ]
        }
      ],
      "source": [
        "import torch\n",
        "import torch.nn as nn\n",
        "import numpy as np\n",
        "from torch.optim import optimizer\n",
        "import matplotlib.pyplot as plt\n",
        "from torch.utils.data import Dataset, Dataset\n",
        "import torch.nn.functional as F\n",
        "from torch.utils.data import DataLoader\n",
        "import torchvision.models as models\n",
        "import csv\n",
        "import os\n",
        "import cv2\n",
        "import torchvision.transforms as transforms\n",
        "import pandas as pd\n",
        "import time\n"
      ]
    },
    {
      "cell_type": "code",
      "execution_count": 2,
      "id": "658fed80",
      "metadata": {},
      "outputs": [
        {
          "name": "stdout",
          "output_type": "stream",
          "text": [
            "Reading data\n",
            "...\n",
            "Size of training data = 1000\n",
            "Size of Testing data = 1992\n"
          ]
        }
      ],
      "source": [
        "def readfile(path, label):\n",
        "    true_list = []\n",
        "    # label 是一个 boolean variable, 代表需不需要回传 y 值\n",
        "    image_dir = sorted(os.listdir(path))  # os.listdir(path)将path路径下的文件名以列表形式读出\n",
        "    # print(os.listdir(path))\n",
        "    # print(image_dir)\n",
        "    x = np.zeros((len(image_dir), 256, 256, 3), dtype=np.uint8)\n",
        "    y = np.zeros((len(image_dir)), dtype=np.uint8)\n",
        "    for i, file in enumerate(image_dir):\n",
        "        img = cv2.imread(os.path.join(path, file))  # os.path.join(path, file) 路径名合并\n",
        "        # print(img.shape)\n",
        "        x[i, :, :] = cv2.resize(img, (256, 256))\n",
        "        if label:\n",
        "            y[i] = int(file.split(\"_\")[0])\n",
        "            \n",
        "    if label:\n",
        "        return x, y\n",
        "    else:\n",
        "        return x\n",
        "\n",
        "\n",
        "# 分别将 training set、validation set、testing set 用 readfile 函式读进来\n",
        "workspace_dir = './Face Mask Dataset'\n",
        "print(\"Reading data\")\n",
        "print(\"...\")\n",
        "train_x, train_y = readfile(os.path.join(workspace_dir, \"testingTrain\"), True)\n",
        "print(\"Size of training data = {}\".format(len(train_x)))\n",
        "# val_x, val_y = readfile(os.path.join(workspace_dir, \"valid set\"), True)\n",
        "# print(\"Size of validation data = {}\".format(len(val_x)))\n",
        "test_x, test_y = readfile(os.path.join(workspace_dir, \"testingTest\"), True)\n",
        "print(\"Size of Testing data = {}\".format(len(test_x)))\n",
        "# print(\"Reading data complicated\")\n",
        "\n",
        "train_transform = transforms.Compose([\n",
        "    transforms.ToPILImage(),\n",
        "    # transforms.RandomCrop(224),\n",
        "    transforms.RandomHorizontalFlip(p=0.5),\n",
        "    transforms.RandomRotation(degrees=(-20, 20)),\n",
        "    transforms.ToTensor(),\n",
        "])\n",
        "\n",
        "test_transform = transforms.Compose([\n",
        "    transforms.ToPILImage(),\n",
        "    # transforms.RandomCrop(224),\n",
        "    transforms.ToTensor(),\n",
        "])\n",
        "\n",
        "valid_transform = transforms.Compose([\n",
        "    transforms.ToPILImage(),\n",
        "    transforms.ToTensor(),\n",
        "])\n"
      ]
    },
    {
      "cell_type": "code",
      "execution_count": 3,
      "id": "3wSmYfmrqq4o",
      "metadata": {
        "colab": {
          "base_uri": "https://localhost:8080/"
        },
        "id": "3wSmYfmrqq4o",
        "outputId": "83db1d48-307f-40d0-c878-f7ab41531420"
      },
      "outputs": [
        {
          "name": "stdout",
          "output_type": "stream",
          "text": [
            "device: cpu\n"
          ]
        }
      ],
      "source": [
        "def random_seed_setup(seed):\n",
        "    # For reproducibility\n",
        "    torch.backends.cudnn.deterministic = True\n",
        "    torch.backends.cudnn.benchmark = False\n",
        "    np.random.seed(seed)\n",
        "    torch.manual_seed(seed)\n",
        "    if torch.cuda.is_available():\n",
        "        torch.cuda.manual_seed_all(seed)\n",
        "        print(\"device: cuda\")\n",
        "        return 'cuda'\n",
        "    else:\n",
        "        print(\"device: cpu\")\n",
        "        return 'cpu'\n",
        "device = random_seed_setup(42096)\n",
        "\n",
        "class ExampleDataset(Dataset):\n",
        "\n",
        "    # data loading\n",
        "    def __init__(self, x, y=None, transform=None):\n",
        "        self.x = x\n",
        "        # label is required to be a LongTensor\n",
        "        self.y = y\n",
        "        if y is not None:\n",
        "            self.y = torch.LongTensor(y)\n",
        "        self.transform = transform\n",
        "\n",
        "    def __len__(self):\n",
        "        return len(self.x)\n",
        "\n",
        "    def __getitem__(self, index):\n",
        "        X = self.x[index]\n",
        "        if self.transform is not None:\n",
        "            X = self.transform(X)\n",
        "        if self.y is not None:\n",
        "            Y = self.y[index]\n",
        "            return X, Y\n",
        "        else:  # 如果没有标签那么只返回X\n",
        "            return X\n",
        "\n",
        "\n",
        "\n",
        "train_set = ExampleDataset(train_x, train_y, train_transform)\n",
        "train_loader = DataLoader(train_set, batch_size=32, shuffle=True)\n",
        "# valid_set = ExampleDataset(val_x, val_y, valid_transform)\n",
        "# valid_dataloader = DataLoader(valid_set, batch_size=1)"
      ]
    },
    {
      "cell_type": "markdown",
      "id": "9cc8f5d7",
      "metadata": {
        "id": "9cc8f5d7",
        "papermill": {
          "duration": 0.00321,
          "end_time": "2022-10-12T01:52:49.890019",
          "exception": false,
          "start_time": "2022-10-12T01:52:49.886809",
          "status": "completed"
        },
        "tags": []
      },
      "source": [
        "# Normalization"
      ]
    },
    {
      "cell_type": "code",
      "execution_count": 31,
      "id": "08265fe4",
      "metadata": {
        "ExecuteTime": {
          "end_time": "2021-10-18T14:28:26.880957Z",
          "start_time": "2021-10-18T14:27:42.512093Z"
        },
        "_kg_hide-output": true,
        "id": "08265fe4",
        "papermill": {
          "duration": 0.003163,
          "end_time": "2022-10-12T01:52:49.896768",
          "exception": false,
          "start_time": "2022-10-12T01:52:49.893605",
          "status": "completed"
        },
        "scrolled": true,
        "tags": []
      },
      "outputs": [],
      "source": [
        "# mean = dataset.x.data.mean(dim=0).unsqueeze(0)\n",
        "# std = dataset.x.data.std(dim=0).unsqueeze(0)\n",
        "# dataset.x = (dataset.x - dataset.x.data.mean(dim=0).unsqueeze(0)) / dataset.x.data.std(dim=0).unsqueeze(0)\n",
        "# print(dataset.x)\n",
        "# print(dataset.y)"
      ]
    },
    {
      "cell_type": "markdown",
      "id": "1c7d17bb",
      "metadata": {
        "id": "1c7d17bb",
        "papermill": {
          "duration": 0.003167,
          "end_time": "2022-10-12T01:52:49.903354",
          "exception": false,
          "start_time": "2022-10-12T01:52:49.900187",
          "status": "completed"
        },
        "tags": []
      },
      "source": [
        "# Build model"
      ]
    },
    {
      "cell_type": "code",
      "execution_count": 4,
      "id": "d260b28f",
      "metadata": {
        "ExecuteTime": {
          "end_time": "2021-10-18T14:56:55.610826Z",
          "start_time": "2021-10-18T14:56:55.515154Z"
        },
        "id": "d260b28f",
        "papermill": {
          "duration": 0.003242,
          "end_time": "2022-10-12T01:52:49.910084",
          "exception": false,
          "start_time": "2022-10-12T01:52:49.906842",
          "status": "completed"
        },
        "scrolled": true,
        "tags": []
      },
      "outputs": [],
      "source": [
        "\n",
        "device = torch.device(\"cuda:0\" if torch.cuda.is_available() else \"cpu\")\n",
        "\n",
        "# 模型參考至 https://reurl.cc/4XGe9V\n",
        "class ConvNet(nn.Module):\n",
        "    def __init__(self):\n",
        "        super(ConvNet, self).__init__()\n",
        "        # [3, 128, 128]\n",
        "        self.cnn = nn.Sequential(\n",
        "            nn.Conv2d(3, 64, 3, 1, 1),  # [64, 256, 256]\n",
        "            nn.BatchNorm2d(64),\n",
        "            nn.ReLU(),\n",
        "            nn.MaxPool2d(2, 2, 0),  # [64, 128, 128]\n",
        "\n",
        "            nn.Conv2d(64, 128, 3, 1, 1),  # [128, 128, 128]\n",
        "            nn.BatchNorm2d(128),\n",
        "            nn.ReLU(),\n",
        "            nn.MaxPool2d(2, 2, 0),  # [128, 64, 64]\n",
        "\n",
        "            nn.Conv2d(128, 256, 3, 1, 1),  # [256,  64, 64]\n",
        "            nn.BatchNorm2d(256),\n",
        "            nn.ReLU(),\n",
        "            nn.MaxPool2d(2, 2, 0),  # [256, 32, 32]\n",
        "\n",
        "            nn.Conv2d(256, 512, 3, 1, 1),  # [512, 32, 32]\n",
        "            nn.BatchNorm2d(512),\n",
        "            nn.ReLU(),\n",
        "            nn.MaxPool2d(2, 2, 0),  # [512, 16, 16]\n",
        "\n",
        "            nn.Conv2d(512, 512, 3, 1, 1),  # [512, 16, 16]\n",
        "            nn.BatchNorm2d(512),\n",
        "            nn.ReLU(),\n",
        "            nn.MaxPool2d(2, 2, 0),  # [512, 8, 8]\n",
        "        )\n",
        "        self.fc = nn.Sequential(\n",
        "            nn.Linear(512 * 8 * 8, 2048),\n",
        "            nn.ReLU(),\n",
        "            nn.Linear(2048, 512),\n",
        "            nn.ReLU(),\n",
        "            nn.Linear(512, 11)\n",
        "        )\n",
        "\n",
        "    def forward(self, x):\n",
        "        out = self.cnn(x)\n",
        "        out = out.view(out.size()[0], -1)\n",
        "        return self.fc(out)\n",
        "\n",
        "model = ConvNet()\n",
        "model.to(device)\n",
        "FILE = 'model_state_dict3.pt'"
      ]
    },
    {
      "cell_type": "markdown",
      "id": "9fbf8987",
      "metadata": {
        "id": "9fbf8987",
        "papermill": {
          "duration": 0.003147,
          "end_time": "2022-10-12T01:52:49.916700",
          "exception": false,
          "start_time": "2022-10-12T01:52:49.913553",
          "status": "completed"
        },
        "tags": []
      },
      "source": [
        "# Fit dataset"
      ]
    },
    {
      "cell_type": "code",
      "execution_count": 5,
      "id": "c8b80e9e",
      "metadata": {
        "ExecuteTime": {
          "end_time": "2021-10-18T14:57:28.921655Z",
          "start_time": "2021-10-18T14:56:57.034996Z"
        },
        "colab": {
          "base_uri": "https://localhost:8080/"
        },
        "id": "c8b80e9e",
        "outputId": "7e37bb2a-73cb-4c90-9b29-bcea38aa3895",
        "papermill": {
          "duration": 0.003172,
          "end_time": "2022-10-12T01:52:49.923302",
          "exception": false,
          "start_time": "2022-10-12T01:52:49.920130",
          "status": "completed"
        },
        "scrolled": true,
        "tags": []
      },
      "outputs": [
        {
          "name": "stdout",
          "output_type": "stream",
          "text": [
            "Epoch 1\n",
            "-------------------------------\n",
            "loss: 11.709886  [  288/ 1000]\n",
            "loss: 2.186192  [  608/ 1000]\n",
            "loss: 0.623267  [  928/ 1000]\n",
            "Epoch 2\n",
            "-------------------------------\n",
            "loss: 0.450961  [  288/ 1000]\n",
            "loss: 0.385425  [  608/ 1000]\n",
            "loss: 0.298457  [  928/ 1000]\n",
            "Epoch 3\n",
            "-------------------------------\n",
            "loss: 0.315861  [  288/ 1000]\n",
            "loss: 0.345844  [  608/ 1000]\n",
            "loss: 0.247658  [  928/ 1000]\n",
            "Epoch 4\n",
            "-------------------------------\n",
            "loss: 0.286576  [  288/ 1000]\n",
            "loss: 0.238824  [  608/ 1000]\n",
            "loss: 0.204762  [  928/ 1000]\n",
            "Epoch 5\n",
            "-------------------------------\n",
            "loss: 0.140032  [  288/ 1000]\n",
            "loss: 0.175137  [  608/ 1000]\n",
            "loss: 0.195783  [  928/ 1000]\n",
            "Epoch 6\n",
            "-------------------------------\n",
            "loss: 0.115264  [  288/ 1000]\n",
            "loss: 0.176562  [  608/ 1000]\n",
            "loss: 0.135495  [  928/ 1000]\n",
            "Epoch 7\n",
            "-------------------------------\n",
            "loss: 0.115151  [  288/ 1000]\n",
            "loss: 0.092907  [  608/ 1000]\n",
            "loss: 0.112341  [  928/ 1000]\n",
            "Epoch 8\n",
            "-------------------------------\n",
            "loss: 0.137229  [  288/ 1000]\n",
            "loss: 0.134343  [  608/ 1000]\n",
            "loss: 0.077404  [  928/ 1000]\n",
            "Epoch 9\n",
            "-------------------------------\n",
            "loss: 0.120926  [  288/ 1000]\n",
            "loss: 0.142448  [  608/ 1000]\n",
            "loss: 0.082133  [  928/ 1000]\n",
            "Epoch 10\n",
            "-------------------------------\n",
            "loss: 0.064373  [  288/ 1000]\n",
            "loss: 0.091257  [  608/ 1000]\n",
            "loss: 0.121358  [  928/ 1000]\n",
            "Epoch 11\n",
            "-------------------------------\n",
            "loss: 0.145479  [  288/ 1000]\n",
            "loss: 0.092201  [  608/ 1000]\n",
            "loss: 0.088473  [  928/ 1000]\n",
            "Epoch 12\n",
            "-------------------------------\n",
            "loss: 0.116985  [  288/ 1000]\n",
            "loss: 0.113845  [  608/ 1000]\n",
            "loss: 0.145458  [  928/ 1000]\n",
            "Epoch 13\n",
            "-------------------------------\n",
            "loss: 0.113876  [  288/ 1000]\n",
            "loss: 0.084994  [  608/ 1000]\n",
            "loss: 0.107383  [  928/ 1000]\n",
            "Epoch 14\n",
            "-------------------------------\n",
            "loss: 0.106451  [  288/ 1000]\n",
            "loss: 0.106231  [  608/ 1000]\n",
            "loss: 0.101256  [  928/ 1000]\n",
            "Epoch 15\n",
            "-------------------------------\n",
            "loss: 0.057854  [  288/ 1000]\n",
            "loss: 0.130693  [  608/ 1000]\n",
            "loss: 0.131946  [  928/ 1000]\n"
          ]
        },
        {
          "data": {
            "text/plain": [
              "<matplotlib.legend.Legend at 0x2ca99bfaf40>"
            ]
          },
          "execution_count": 5,
          "metadata": {},
          "output_type": "execute_result"
        },
        {
          "data": {
            "image/png": "[encoded data removed]",
            "text/plain": [
              "<Figure size 640x480 with 1 Axes>"
            ]
          },
          "metadata": {},
          "output_type": "display_data"
        }
      ],
      "source": [
        "criterion = nn.CrossEntropyLoss()  # loss\n",
        "optimizer = torch.optim.Adam(model.parameters(), lr = 0.001)\n",
        "# scheduler = torch.optim.lr_scheduler.ExponentialLR(optimizer, gamma=0.95) \n",
        "model.train()\n",
        "alist = []\n",
        "blist = []\n",
        "def train_loop(dataloader, model, criterion, optimizer, train_graph):\n",
        "    total = 0\n",
        "    valid_loss = 0\n",
        "    size = len(dataloader.dataset)\n",
        "    for batch, (X, y) in enumerate(dataloader):\n",
        "        # Compute prediction and loss\n",
        "        X, y = X.to(device), y.to(device)\n",
        "        pred = model(X)\n",
        "        # print(\"pred\" + str(pred))\n",
        "        # print(\"y\" + str(y))\n",
        "        loss = criterion(pred, y)\n",
        "        # print(loss)\n",
        "        total += loss.item()\n",
        "        \n",
        "        # Backpropagation\n",
        "        # loss = loss.to(torch.float32)\n",
        "        loss.backward()\n",
        "        optimizer.step()\n",
        "        \n",
        "        optimizer.zero_grad()\n",
        "        alist.append(total)\n",
        "        if (batch+1) % 10 == 0:\n",
        "            current = batch * len(X)\n",
        "            print(f\"loss: {total/10:>7f}  [{current:>5d}/{size:>5d}]\")\n",
        "            total = 0\n",
        "            torch.save({'model_state_dict': model.state_dict()}, FILE)\n",
        "    total_loss = total / len(dataloader)\n",
        "    train_graph.append(total_loss)\n",
        "    # # scheduler.step()\n",
        "    # with torch.no_grad():\n",
        "    #     for x, y in valid_dataloader:\n",
        "    #         x, y = x.to(device), y.to(device)\n",
        "    #         y_pred = model(x)\n",
        "    #         loss = criterion(y_pred, y)\n",
        "    #         valid_loss += loss.item()\n",
        "            \n",
        "    #     valid_loss_value = valid_loss / len(valid_dataloader)\n",
        "    #     valid_graph.append(valid_loss_value)\n",
        "            \n",
        "epochs = 15\n",
        "train_graph = []\n",
        "valid_graph = []\n",
        "for t in range(epochs):\n",
        "    print(f\"Epoch {t+1}\\n-------------------------------\")\n",
        "    train_loop(train_loader, model, criterion, optimizer, train_graph)\n",
        "    blist.append(t)\n",
        "# torch.save({'model_state_dict': model.state_dict()}, FILE)\n",
        "\n",
        "\n",
        "plt.plot(train_graph, label='train_loss')\n",
        "plt.plot(valid_graph, label='valid_loss')\n",
        "plt.ylabel('loss')\n",
        "plt.xlabel('epoch')\n",
        "plt.legend(['trian', 'valid'], loc='upper right')"
      ]
    },
    {
      "cell_type": "markdown",
      "id": "0af78046",
      "metadata": {
        "id": "0af78046",
        "papermill": {
          "duration": 0.003161,
          "end_time": "2022-10-12T01:52:49.930233",
          "exception": false,
          "start_time": "2022-10-12T01:52:49.927072",
          "status": "completed"
        },
        "tags": []
      },
      "source": [
        "# Re-load best weight, and prediction test dataset"
      ]
    },
    {
      "cell_type": "code",
      "execution_count": 8,
      "id": "359cdd8f",
      "metadata": {
        "ExecuteTime": {
          "end_time": "2021-10-18T14:57:33.796351Z",
          "start_time": "2021-10-18T14:57:33.114628Z"
        },
        "id": "359cdd8f",
        "papermill": {
          "duration": 0.003123,
          "end_time": "2022-10-12T01:52:49.936856",
          "exception": false,
          "start_time": "2022-10-12T01:52:49.933733",
          "status": "completed"
        },
        "scrolled": true,
        "tags": []
      },
      "outputs": [],
      "source": [
        "checkpoint = torch.load(FILE)\n",
        "model.load_state_dict(checkpoint[\"model_state_dict\"])\n",
        "model.eval()\n",
        "\n",
        "test_set = ExampleDataset(test_x, transform=test_transform)\n",
        "test_loader = DataLoader(test_set, batch_size=1, shuffle=False)\n",
        "\n",
        "\n",
        "# dataset2.x = (dataset2.x - mean) / std\n",
        "# print(dataset2.x)\n"
      ]
    },
    {
      "cell_type": "markdown",
      "id": "a66195cd",
      "metadata": {
        "id": "a66195cd",
        "papermill": {
          "duration": 0.003222,
          "end_time": "2022-10-12T01:52:49.943444",
          "exception": false,
          "start_time": "2022-10-12T01:52:49.940222",
          "status": "completed"
        },
        "tags": []
      },
      "source": [
        "# save test prediction, and plot figure"
      ]
    },
    {
      "cell_type": "code",
      "execution_count": 9,
      "id": "3eeae50a",
      "metadata": {
        "ExecuteTime": {
          "end_time": "2021-10-18T14:57:34.897863Z",
          "start_time": "2021-10-18T14:57:34.490551Z"
        },
        "colab": {
          "base_uri": "https://localhost:8080/",
          "height": 316
        },
        "id": "3eeae50a",
        "outputId": "58328c6c-d433-4240-aa4d-535662d3070b",
        "papermill": {
          "duration": 0.003165,
          "end_time": "2022-10-12T01:52:49.950009",
          "exception": false,
          "start_time": "2022-10-12T01:52:49.946844",
          "status": "completed"
        },
        "scrolled": true,
        "tags": []
      },
      "outputs": [
        {
          "name": "stdout",
          "output_type": "stream",
          "text": [
            "[10, 22, 23, 25, 26, 27, 28, 29, 31, 43, 44, 48, 49, 50, 64, 71, 81, 91, 99, 108, 128, 134, 135, 145, 151, 164, 194, 203, 204, 205, 206, 212, 215, 217, 224, 227, 235, 245, 246, 251, 255, 262, 267, 281, 289, 299, 303, 313, 316, 324, 330, 337, 346, 347, 363, 370, 374, 376, 377, 379, 392, 401, 403, 406, 407, 408, 411, 420, 421, 424, 426, 435, 441, 444, 445, 446, 452, 456, 459, 461, 467, 469, 472, 478, 485, 489, 499, 504, 508, 510, 518, 520, 524, 534, 535, 538, 540, 546, 574, 575, 591, 600, 604, 613, 618, 621, 625, 634, 636, 645, 649, 652, 665, 673, 675, 682, 687, 689, 696, 744, 758, 760, 763, 769, 770, 771, 772, 773, 781, 782, 784, 785, 786, 787, 822, 828, 829, 830, 831, 832, 834, 836, 837, 839, 850, 851, 852, 853, 854, 887, 893, 941, 942, 943, 945, 946, 947, 948, 949, 950, 952, 953, 954, 956, 957, 1057, 1118, 1131, 1197, 1254, 1331, 1385, 1429, 1472, 1506, 1583, 1624]\n"
          ]
        }
      ],
      "source": [
        "clist = []\n",
        "dlist = []\n",
        "pred_value = []\n",
        "true_value = []\n",
        "difference_id = []\n",
        "for batch, X in enumerate(test_loader):\n",
        "      X = X.to(device)\n",
        "      pred = model(X)\n",
        "      # print(y)\n",
        "      test_label = np.argmax(pred.cpu().data.numpy(), axis=1)\n",
        "      # print(pred)\n",
        "      clist.append(test_label)\n",
        "\n",
        "for i in range(len(test_loader)):\n",
        "  pred_value.append(clist[i][0])\n",
        "# print(pred_value)\n",
        "\n",
        "for i in range(len(test_y)):\n",
        "  true_value.append(test_y[i])\n",
        "\n",
        "for i in range(len(test_loader)):\n",
        "  if pred_value[i] != true_value[i]:\n",
        "      difference_id.append(i)\n",
        "\n",
        "print(difference_id)\n",
        "\n",
        "\n",
        "# print(true_value)\n",
        "# print(alist)\n",
        "# for i in range(len(alist)):\n",
        "#   # if ((i+1) % 35) ==0 :\n",
        "#     dlist.append(alist[i]/10)\n",
        "# print(dlist)\n",
        "\n",
        "# for i in range(epochs * 35):\n",
        "#   elist.append(i)\n",
        "\n",
        "\n",
        "# predicted = model(dataset2.x).detach().numpy()\n",
        "\n",
        "\n",
        "\n",
        "\n",
        "# plt.plot(elist,dlist)\n",
        "# plt.xlabel('Training steps')\n",
        "# plt.ylabel('MSE loss')\n",
        "# plt.show()"
      ]
    },
    {
      "cell_type": "markdown",
      "id": "71b8fdc0",
      "metadata": {
        "id": "71b8fdc0",
        "papermill": {
          "duration": 0.003126,
          "end_time": "2022-10-12T01:52:49.956585",
          "exception": false,
          "start_time": "2022-10-12T01:52:49.953459",
          "status": "completed"
        },
        "tags": []
      },
      "source": [
        "# Upload Format"
      ]
    },
    {
      "cell_type": "code",
      "execution_count": 10,
      "id": "05354298",
      "metadata": {
        "ExecuteTime": {
          "end_time": "2021-10-18T14:57:41.976497Z",
          "start_time": "2021-10-18T14:57:41.474182Z"
        },
        "colab": {
          "base_uri": "https://localhost:8080/"
        },
        "id": "05354298",
        "outputId": "cdddc322-ddec-4cd3-9307-a6f7d32d401f",
        "papermill": {
          "duration": 0.003154,
          "end_time": "2022-10-12T01:52:49.963212",
          "exception": false,
          "start_time": "2022-10-12T01:52:49.960058",
          "status": "completed"
        },
        "scrolled": true,
        "tags": []
      },
      "outputs": [
        {
          "name": "stdout",
          "output_type": "stream",
          "text": [
            "818 165\n",
            "12 997\n",
            "0.9855421686746988\n",
            "0.832146490335707\n",
            "0.9023717595146166\n"
          ]
        }
      ],
      "source": [
        "tp = 0\n",
        "tn = 0\n",
        "fp = 0\n",
        "fn = 0\n",
        "\n",
        "for i in range(len(test_y)):\n",
        "    if pred_value[i] == 0 and true_value[i] == 0:\n",
        "        tp += 1\n",
        "    elif pred_value[i] == 1 and true_value[i] == 1:\n",
        "        tn += 1\n",
        "    elif pred_value[i] == 1 and true_value[i] == 0:\n",
        "        fp += 1\n",
        "    else:\n",
        "        fn += 1\n",
        "\n",
        "print(tp, fp)\n",
        "print(fn, tn)\n",
        "recall = tp / (tp + fn)\n",
        "precision = tp / (tp + fp)\n",
        "print(recall)\n",
        "print(precision)\n",
        "score = 2 * recall * precision / (precision + recall)\n",
        "\n",
        "print(score)"
      ]
    }
  ],
  "metadata": {
    "accelerator": "GPU",
    "colab": {
      "collapsed_sections": [],
      "provenance": []
    },
    "kernelspec": {
      "display_name": "Python 3",
      "language": "python",
      "name": "python3"
    },
    "language_info": {
      "codemirror_mode": {
        "name": "ipython",
        "version": 3
      },
      "file_extension": ".py",
      "mimetype": "text/x-python",
      "name": "python",
      "nbconvert_exporter": "python",
      "pygments_lexer": "ipython3",
      "version": "3.9.6 (tags/v3.9.6:db3ff76, Jun 28 2021, 15:26:21) [MSC v.1929 64 bit (AMD64)]"
    },
    "papermill": {
      "default_parameters": {},
      "duration": 11.129471,
      "end_time": "2022-10-12T01:52:50.689284",
      "environment_variables": {},
      "exception": null,
      "input_path": "__notebook__.ipynb",
      "output_path": "__notebook__.ipynb",
      "parameters": {},
      "start_time": "2022-10-12T01:52:39.559813",
      "version": "2.3.4"
    },
    "vscode": {
      "interpreter": {
        "hash": "1971d300d4f5b7ee1f33d813e5ea21cc0bef4bf9572ad700702d8664b4108aed"
      }
    }
  },
  "nbformat": 4,
  "nbformat_minor": 5
}
