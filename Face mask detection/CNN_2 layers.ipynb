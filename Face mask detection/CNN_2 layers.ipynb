{
  "cells": [
    {
      "cell_type": "markdown",
      "id": "bb412b83",
      "metadata": {
        "id": "bb412b83",
        "papermill": {
          "duration": 0.004871,
          "end_time": "2022-10-12T01:52:49.876066",
          "exception": false,
          "start_time": "2022-10-12T01:52:49.871195",
          "status": "completed"
        },
        "tags": []
      },
      "source": [
        "# Package"
      ]
    },
    {
      "cell_type": "code",
      "execution_count": 1,
      "id": "bc8237f5",
      "metadata": {
        "ExecuteTime": {
          "end_time": "2021-10-18T14:27:40.570439Z",
          "start_time": "2021-10-18T14:27:37.334991Z"
        },
        "_cell_guid": "b1076dfc-b9ad-4769-8c92-a6c4dae69d19",
        "_uuid": "8f2839f25d086af736a60e9eeb907d3b93b6e0e5",
        "colab": {
          "base_uri": "https://localhost:8080/",
          "height": 686
        },
        "execution": {
          "iopub.execute_input": "2021-09-07T18:38:35.884476Z",
          "iopub.status.busy": "2021-09-07T18:38:35.883752Z",
          "iopub.status.idle": "2021-09-07T18:38:35.895868Z",
          "shell.execute_reply": "2021-09-07T18:38:35.894884Z",
          "shell.execute_reply.started": "2021-09-07T18:38:35.884311Z"
        },
        "id": "bc8237f5",
        "outputId": "f0a771c6-92bf-4f64-8ccc-57d692cddba0",
        "papermill": {
          "duration": 0.003349,
          "end_time": "2022-10-12T01:52:49.883263",
          "exception": false,
          "start_time": "2022-10-12T01:52:49.879914",
          "status": "completed"
        },
        "tags": []
      },
      "outputs": [],
      "source": [
        "import torch\n",
        "import torch.nn as nn\n",
        "import numpy as np\n",
        "from torch.optim import optimizer\n",
        "import matplotlib.pyplot as plt\n",
        "from torch.utils.data import Dataset, Dataset\n",
        "import torch.nn.functional as F\n",
        "from torch.utils.data import DataLoader\n",
        "import torchvision.models as models\n",
        "import csv\n",
        "import os\n",
        "import cv2\n",
        "import torchvision.transforms as transforms\n",
        "import pandas as pd\n",
        "import time\n"
      ]
    },
    {
      "cell_type": "code",
      "execution_count": 2,
      "id": "658fed80",
      "metadata": {},
      "outputs": [
        {
          "name": "stdout",
          "output_type": "stream",
          "text": [
            "Reading data\n",
            "...\n",
            "Size of training data = 1000\n",
            "Size of validation data = 797\n",
            "Size of Testing data = 1000\n"
          ]
        }
      ],
      "source": [
        "def readfile(path, label):\n",
        "    true_list = []\n",
        "\n",
        "    image_dir = sorted(os.listdir(path))  \n",
        "    # print(os.listdir(path))\n",
        "    # print(image_dir)\n",
        "    x = np.zeros((len(image_dir), 128, 128, 3), dtype=np.uint8)\n",
        "    y = np.zeros((len(image_dir)), dtype=np.uint8)\n",
        "    for i, file in enumerate(image_dir):\n",
        "        img = cv2.imread(os.path.join(path, file))  # os.path.join(path, file) \n",
        "        # print(img.shape)\n",
        "        x[i, :, :] = cv2.resize(img, (128, 128))\n",
        "        if label:\n",
        "            y[i] = int(file.split(\"_\")[0])\n",
        "            \n",
        "    if label:\n",
        "        return x, y\n",
        "    else:\n",
        "        return x\n",
        "\n",
        "\n",
        "\n",
        "workspace_dir = './data'\n",
        "print(\"Reading data\")\n",
        "print(\"...\")\n",
        "train_x, train_y = readfile(os.path.join(workspace_dir, \"train\"), True)\n",
        "print(\"Size of training data = {}\".format(len(train_x)))\n",
        "val_x, val_y = readfile(os.path.join(workspace_dir, \"valid set\"), True)\n",
        "print(\"Size of validation data = {}\".format(len(val_x)))\n",
        "test_x, test_y = readfile(os.path.join(workspace_dir, \"test\"), True)\n",
        "print(\"Size of Testing data = {}\".format(len(test_x)))\n",
        "# print(\"Reading data complicated\")\n",
        "\n",
        "# train_transform = transforms.Compose([\n",
        "#     transforms.ToPILImage(),\n",
        "#     transforms.ToTensor(),\n",
        "# ])\n",
        "\n",
        "# test_transform = transforms.Compose([\n",
        "#     transforms.ToPILImage(),\n",
        "#     transforms.ToTensor(),\n",
        "# ])\n",
        "\n",
        "# valid_transform = transforms.Compose([\n",
        "#     transforms.ToPILImage(),\n",
        "#     transforms.ToTensor(),\n",
        "# ])\n",
        "\n",
        "\n",
        "\n",
        "\n",
        "# preprocessing\n",
        "train_tfm = transforms.Compose([\n",
        "    transforms.ToPILImage(),\n",
        "    # transforms.Resize(256),\n",
        "    # transforms.RandomCrop(224),\n",
        "    transforms.RandomHorizontalFlip(p=0.5),\n",
        "    transforms.RandomRotation(degrees=(-20, 20)),\n",
        "    transforms.ToTensor(),\n",
        "    transforms.Normalize(mean=[0.485, 0.456, 0.406], std=[0.229, 0.224, 0.225]),\n",
        "])\n",
        "\n",
        "test_tfm = transforms.Compose([\n",
        "    transforms.ToPILImage(),\n",
        "    # transforms.Resize(256),\n",
        "    # transforms.CenterCrop(224),\n",
        "    transforms.ToTensor(),\n",
        "    transforms.Normalize(mean=[0.485, 0.456, 0.406], std=[0.229, 0.224, 0.225]),\n",
        "])\n",
        "\n",
        "valid_tfm = transforms.Compose([\n",
        "    transforms.ToPILImage(),\n",
        "    # transforms.Resize(256),\n",
        "    # transforms.CenterCrop(224),\n",
        "    transforms.ToTensor(),\n",
        "    transforms.Normalize(mean=[0.485, 0.456, 0.406], std=[0.229, 0.224, 0.225]),\n",
        "])"
      ]
    },
    {
      "cell_type": "code",
      "execution_count": 3,
      "id": "3wSmYfmrqq4o",
      "metadata": {
        "colab": {
          "base_uri": "https://localhost:8080/"
        },
        "id": "3wSmYfmrqq4o",
        "outputId": "83db1d48-307f-40d0-c878-f7ab41531420"
      },
      "outputs": [
        {
          "name": "stdout",
          "output_type": "stream",
          "text": [
            "device: cuda\n"
          ]
        }
      ],
      "source": [
        "def random_seed_setup(seed):\n",
        "    # For reproducibility\n",
        "    torch.backends.cudnn.deterministic = True\n",
        "    torch.backends.cudnn.benchmark = False\n",
        "    np.random.seed(seed)\n",
        "    torch.manual_seed(seed)\n",
        "    if torch.cuda.is_available():\n",
        "        torch.cuda.manual_seed_all(seed)\n",
        "        print(\"device: cuda\")\n",
        "        return 'cuda'\n",
        "    else:\n",
        "        print(\"device: cpu\")\n",
        "        return 'cpu'\n",
        "device = random_seed_setup(42096)\n",
        "\n",
        "class ExampleDataset(Dataset):\n",
        "\n",
        "    # data loading\n",
        "    def __init__(self, x, y=None, transform=None):\n",
        "        self.x = x\n",
        "        # label is required to be a LongTensor\n",
        "        self.y = y\n",
        "        if y is not None:\n",
        "            self.y = torch.LongTensor(y)\n",
        "        self.transform = transform\n",
        "\n",
        "    def __len__(self):\n",
        "        return len(self.x)\n",
        "\n",
        "    def __getitem__(self, index):\n",
        "        X = self.x[index]\n",
        "        if self.transform is not None:\n",
        "            X = self.transform(X)\n",
        "        if self.y is not None:\n",
        "            Y = self.y[index]\n",
        "            return X, Y\n",
        "        else:  # 如果没有标签那么只返回X\n",
        "            return X\n",
        "\n",
        "\n",
        "\n",
        "# train_set = ExampleDataset(train_x, train_y, train_transform)\n",
        "# train_loader = DataLoader(train_set, batch_size=32, shuffle=True)\n",
        "# valid_set = ExampleDataset(val_x, val_y, valid_transform)\n",
        "# valid_dataloader = DataLoader(valid_set, batch_size=1)\n",
        "\n",
        "#preprocessing.ver\n",
        "train_set = ExampleDataset(train_x, train_y, train_tfm)\n",
        "train_loader = DataLoader(train_set, batch_size=32, shuffle=True)\n",
        "valid_set = ExampleDataset(val_x, val_y, valid_tfm)\n",
        "valid_dataloader = DataLoader(valid_set, batch_size=1)\n"
      ]
    },
    {
      "cell_type": "markdown",
      "id": "9cc8f5d7",
      "metadata": {
        "id": "9cc8f5d7",
        "papermill": {
          "duration": 0.00321,
          "end_time": "2022-10-12T01:52:49.890019",
          "exception": false,
          "start_time": "2022-10-12T01:52:49.886809",
          "status": "completed"
        },
        "tags": []
      },
      "source": [
        "# Normalization"
      ]
    },
    {
      "cell_type": "code",
      "execution_count": 4,
      "id": "08265fe4",
      "metadata": {
        "ExecuteTime": {
          "end_time": "2021-10-18T14:28:26.880957Z",
          "start_time": "2021-10-18T14:27:42.512093Z"
        },
        "_kg_hide-output": true,
        "id": "08265fe4",
        "papermill": {
          "duration": 0.003163,
          "end_time": "2022-10-12T01:52:49.896768",
          "exception": false,
          "start_time": "2022-10-12T01:52:49.893605",
          "status": "completed"
        },
        "scrolled": true,
        "tags": []
      },
      "outputs": [],
      "source": [
        "# mean = dataset.x.data.mean(dim=0).unsqueeze(0)\n",
        "# std = dataset.x.data.std(dim=0).unsqueeze(0)\n",
        "# dataset.x = (dataset.x - dataset.x.data.mean(dim=0).unsqueeze(0)) / dataset.x.data.std(dim=0).unsqueeze(0)\n",
        "# print(dataset.x)\n",
        "# print(dataset.y)"
      ]
    },
    {
      "cell_type": "markdown",
      "id": "1c7d17bb",
      "metadata": {
        "id": "1c7d17bb",
        "papermill": {
          "duration": 0.003167,
          "end_time": "2022-10-12T01:52:49.903354",
          "exception": false,
          "start_time": "2022-10-12T01:52:49.900187",
          "status": "completed"
        },
        "tags": []
      },
      "source": [
        "# Build model"
      ]
    },
    {
      "cell_type": "code",
      "execution_count": 5,
      "id": "d260b28f",
      "metadata": {
        "ExecuteTime": {
          "end_time": "2021-10-18T14:56:55.610826Z",
          "start_time": "2021-10-18T14:56:55.515154Z"
        },
        "id": "d260b28f",
        "papermill": {
          "duration": 0.003242,
          "end_time": "2022-10-12T01:52:49.910084",
          "exception": false,
          "start_time": "2022-10-12T01:52:49.906842",
          "status": "completed"
        },
        "scrolled": true,
        "tags": []
      },
      "outputs": [],
      "source": [
        "# dataloader = DataLoader(dataset=train_loader, batch_size=2, shuffle=True)\n",
        "device = torch.device(\"cuda:0\" if torch.cuda.is_available() else \"cpu\")\n",
        "# for features, labels in dataloader:\n",
        "#   print(features)\n",
        "#   print(labels)\n",
        "torch.cuda.empty_cache()\n",
        "\n",
        "class ConvNet(nn.Module):\n",
        "    def __init__(self):\n",
        "        super(ConvNet, self).__init__()\n",
        "        # image shape is 30 * 38 * 7, where 1 is one color channel\n",
        "        # conv2d(in, out, kernal, stride, pad)\n",
        "        # size = (input - kernal - stride + 2 * padding ) / stride\n",
        "        # batch size only affected by batch norm\n",
        "        # size : input\n",
        "        self.cnn = nn.Sequential(\n",
        "            # # normal\n",
        "            #input: [32, 3, 128, 128]\n",
        "            \n",
        "            # nn.Conv2d(3, 64, 3, 1, 1),  # [64, 128, 128]\n",
        "            # nn.BatchNorm2d(64),\n",
        "            # nn.ReLU(),\n",
        "            # nn.MaxPool2d(2, 2, 0),  # [64, 64, 64]\n",
        "\n",
        "            # nn.Conv2d(64, 128, 3, 1, 1),  # [64, 64, 64]\n",
        "            # nn.BatchNorm2d(128),\n",
        "            # nn.ReLU(),\n",
        "            # nn.MaxPool2d(2, 2, 0),  # [128, 32, 32]\n",
        "\n",
        "\n",
        "            # # adjusted, kernal == 9\n",
        "            # # input[32, 3, 128, 128]\n",
        "            \n",
        "            # nn.Conv2d(3, 64, 9, 1, 1), # [64, 122, 122]\n",
        "            # nn.BatchNorm2d(64),\n",
        "            # nn.ReLU(),\n",
        "            # nn.MaxPool2d(2, 2, 0), # [64, 61, 61]\n",
        "\n",
        "            # nn.Conv2d(64, 128, 9, 1, 1), # [64, 55, 55]\n",
        "            # nn.BatchNorm2d(128),\n",
        "            # nn.ReLU(),\n",
        "            # nn.MaxPool2d(2, 2, 0),  # 無條件捨去\n",
        "            \n",
        "            \n",
        "            # adjusted 2, stride2 == 2\n",
        "            # input[32, 3, 128, 128]\n",
        "            \n",
        "            nn.Conv2d(3, 64, 3, 1, 1), # [64, 128, 128]\n",
        "            nn.BatchNorm2d(64),\n",
        "            nn.ReLU(),\n",
        "            nn.MaxPool2d(2, 2, 0), # [64, 64, 64]\n",
        "\n",
        "            nn.Conv2d(64, 128, 3, 2, 1), # [64, 65, 65]\n",
        "            nn.BatchNorm2d(128),\n",
        "            nn.ReLU(),\n",
        "            nn.MaxPool2d(2, 2, 0),  # 無條件捨去\n",
        "            )\n",
        "        self.fc = nn.Sequential(\n",
        "            # nn.Linear(128 * 32 * 32, 1024), # baseline\n",
        "            nn.Linear(128 * 16 * 16, 1024), # stride = 2\n",
        "            # nn.Linear(128 * 27 * 27, 1024), #adjusted kernal 9\n",
        "            nn.ReLU(),\n",
        "            nn.Linear(1024, 512),\n",
        "            nn.ReLU(),\n",
        "            nn.Linear(512, 11)\n",
        "        )\n",
        "\n",
        "    def forward(self, x):\n",
        "        out = self.cnn(x)\n",
        "        # print(out.shape) # check shape\n",
        "        out = out.view(out.size()[0], -1)\n",
        "        return self.fc(out)\n",
        "\n",
        "model = ConvNet()\n",
        "model.to(device)\n",
        "FILE = 'model_state_dict.pt'"
      ]
    },
    {
      "cell_type": "markdown",
      "id": "9fbf8987",
      "metadata": {
        "id": "9fbf8987",
        "papermill": {
          "duration": 0.003147,
          "end_time": "2022-10-12T01:52:49.916700",
          "exception": false,
          "start_time": "2022-10-12T01:52:49.913553",
          "status": "completed"
        },
        "tags": []
      },
      "source": [
        "# Fit dataset"
      ]
    },
    {
      "cell_type": "code",
      "execution_count": 6,
      "id": "c8b80e9e",
      "metadata": {
        "ExecuteTime": {
          "end_time": "2021-10-18T14:57:28.921655Z",
          "start_time": "2021-10-18T14:56:57.034996Z"
        },
        "colab": {
          "base_uri": "https://localhost:8080/"
        },
        "id": "c8b80e9e",
        "outputId": "7e37bb2a-73cb-4c90-9b29-bcea38aa3895",
        "papermill": {
          "duration": 0.003172,
          "end_time": "2022-10-12T01:52:49.923302",
          "exception": false,
          "start_time": "2022-10-12T01:52:49.920130",
          "status": "completed"
        },
        "scrolled": true,
        "tags": []
      },
      "outputs": [
        {
          "name": "stdout",
          "output_type": "stream",
          "text": [
            "epoch: 0, loss: 132.48617750033736\n",
            "epoch: 1, loss: 7.805133704096079\n",
            "epoch: 2, loss: 6.604982919991016\n",
            "epoch: 3, loss: 4.565224029123783\n",
            "epoch: 4, loss: 4.294171542860568\n",
            "epoch: 5, loss: 4.766562801785767\n",
            "epoch: 6, loss: 3.782030614092946\n",
            "epoch: 7, loss: 3.4047304103150964\n",
            "epoch: 8, loss: 3.089878265745938\n",
            "epoch: 9, loss: 2.722514576278627\n",
            "epoch: 10, loss: 2.426239682827145\n",
            "epoch: 11, loss: 2.5409393780864775\n",
            "epoch: 12, loss: 2.2967712520621717\n",
            "epoch: 13, loss: 3.7106858522165567\n",
            "epoch: 14, loss: 2.3750510797835886\n"
          ]
        },
        {
          "data": {
            "text/plain": [
              "<matplotlib.legend.Legend at 0x26c20f007f0>"
            ]
          },
          "execution_count": 6,
          "metadata": {},
          "output_type": "execute_result"
        },
        {
          "data": {
            "image/png": "[encoded data removed]",
            "text/plain": [
              "<Figure size 640x480 with 1 Axes>"
            ]
          },
          "metadata": {},
          "output_type": "display_data"
        }
      ],
      "source": [
        "criterion = nn.CrossEntropyLoss()  # loss\n",
        "optimizer = torch.optim.Adam(model.parameters(), lr = 0.001)\n",
        "epochs = 15\n",
        "\n",
        "def save_model():\n",
        "    path = r\"C:\\Users\\JasonWei\\OneDrive\\桌面\\DL final\"\n",
        "    torch.save(model.state_dict(), os.path.join(path,\"Network.pth\"))\n",
        "\n",
        "\n",
        "train_graph = []\n",
        "valid_graph = []\n",
        "optimal_loss = 100\n",
        "for epoch in range(epochs):\n",
        "    train_loss = 0\n",
        "    valid_loss = 0\n",
        "    for x, y in train_loader:\n",
        "        x , y = x.to(device), y.to(device)\n",
        "        # print(x.shape)\n",
        "        pred = model(x)\n",
        "        loss = criterion(pred, y)\n",
        "        train_loss += loss.item()\n",
        "        loss.backward()\n",
        "        optimizer.step()\n",
        "        optimizer.zero_grad()\n",
        "    print('epoch: {}, loss: {}'.format(epoch, train_loss))\n",
        "    train_loss = train_loss / len(train_loader)\n",
        "    # torch.save({'model_state_dict': model.state_dict()}, FILE)\n",
        "    if train_loss < optimal_loss:\n",
        "        optimal_loss = train_loss\n",
        "        save_model()\n",
        "        \n",
        "    train_graph.append(train_loss)\n",
        "    with torch.no_grad():\n",
        "        for x, y in valid_dataloader:\n",
        "            x, y = x.to(device), y.to(device)\n",
        "            y_pred = model(x)\n",
        "            loss = criterion(y_pred, y)\n",
        "            valid_loss += loss.item()\n",
        "            \n",
        "        valid_loss_value = valid_loss / len(valid_dataloader)\n",
        "        valid_graph.append(valid_loss_value)\n",
        "\n",
        "plt.plot(train_graph, label='train_loss')\n",
        "plt.plot(valid_graph, label='valid_loss')\n",
        "plt.ylabel('loss')\n",
        "plt.xlabel('epoch')\n",
        "plt.legend(['trian', 'valid'], loc='upper right')"
      ]
    },
    {
      "cell_type": "markdown",
      "id": "0af78046",
      "metadata": {
        "id": "0af78046",
        "papermill": {
          "duration": 0.003161,
          "end_time": "2022-10-12T01:52:49.930233",
          "exception": false,
          "start_time": "2022-10-12T01:52:49.927072",
          "status": "completed"
        },
        "tags": []
      },
      "source": [
        "# Re-load best weight, and prediction test dataset"
      ]
    },
    {
      "cell_type": "code",
      "execution_count": 7,
      "id": "359cdd8f",
      "metadata": {
        "ExecuteTime": {
          "end_time": "2021-10-18T14:57:33.796351Z",
          "start_time": "2021-10-18T14:57:33.114628Z"
        },
        "id": "359cdd8f",
        "papermill": {
          "duration": 0.003123,
          "end_time": "2022-10-12T01:52:49.936856",
          "exception": false,
          "start_time": "2022-10-12T01:52:49.933733",
          "status": "completed"
        },
        "scrolled": true,
        "tags": []
      },
      "outputs": [],
      "source": [
        "\n",
        "model.load_state_dict(torch.load(r\"./Network.pth\"))\n",
        "model.eval()\n",
        "\n",
        "# test_set = ExampleDataset(test_x, transform=test_transform)\n",
        "test_set = ExampleDataset(test_x, transform=test_tfm) #preprocessing.ver\n",
        "test_loader = DataLoader(test_set, batch_size=1, shuffle=False)\n",
        "\n",
        "\n",
        "# dataset2.x = (dataset2.x - mean) / std\n",
        "# print(dataset2.x)\n"
      ]
    },
    {
      "cell_type": "markdown",
      "id": "a66195cd",
      "metadata": {
        "id": "a66195cd",
        "papermill": {
          "duration": 0.003222,
          "end_time": "2022-10-12T01:52:49.943444",
          "exception": false,
          "start_time": "2022-10-12T01:52:49.940222",
          "status": "completed"
        },
        "tags": []
      },
      "source": [
        "# save test prediction, and plot figure"
      ]
    },
    {
      "cell_type": "code",
      "execution_count": 8,
      "id": "3eeae50a",
      "metadata": {
        "ExecuteTime": {
          "end_time": "2021-10-18T14:57:34.897863Z",
          "start_time": "2021-10-18T14:57:34.490551Z"
        },
        "colab": {
          "base_uri": "https://localhost:8080/",
          "height": 316
        },
        "id": "3eeae50a",
        "outputId": "58328c6c-d433-4240-aa4d-535662d3070b",
        "papermill": {
          "duration": 0.003165,
          "end_time": "2022-10-12T01:52:49.950009",
          "exception": false,
          "start_time": "2022-10-12T01:52:49.946844",
          "status": "completed"
        },
        "scrolled": true,
        "tags": []
      },
      "outputs": [],
      "source": [
        "clist = []\n",
        "dlist = []\n",
        "pred_value = []\n",
        "true_value = []\n",
        "for batch, X in enumerate(test_loader):\n",
        "      X = X.to(device)\n",
        "      pred = model(X)\n",
        "      # print(y)\n",
        "      test_label = np.argmax(pred.cpu().data.numpy(), axis=1)\n",
        "      # print(pred)\n",
        "      clist.append(test_label)\n",
        "\n",
        "for i in range(len(test_loader)):\n",
        "  pred_value.append(clist[i][0])\n",
        "# print(pred_value)\n",
        "\n",
        "for i in range(len(test_y)):\n",
        "  true_value.append(test_y[i])\n"
      ]
    },
    {
      "cell_type": "markdown",
      "id": "71b8fdc0",
      "metadata": {
        "id": "71b8fdc0",
        "papermill": {
          "duration": 0.003126,
          "end_time": "2022-10-12T01:52:49.956585",
          "exception": false,
          "start_time": "2022-10-12T01:52:49.953459",
          "status": "completed"
        },
        "tags": []
      },
      "source": [
        "# Upload Format"
      ]
    },
    {
      "cell_type": "code",
      "execution_count": 9,
      "id": "05354298",
      "metadata": {
        "ExecuteTime": {
          "end_time": "2021-10-18T14:57:41.976497Z",
          "start_time": "2021-10-18T14:57:41.474182Z"
        },
        "colab": {
          "base_uri": "https://localhost:8080/"
        },
        "id": "05354298",
        "outputId": "cdddc322-ddec-4cd3-9307-a6f7d32d401f",
        "papermill": {
          "duration": 0.003154,
          "end_time": "2022-10-12T01:52:49.963212",
          "exception": false,
          "start_time": "2022-10-12T01:52:49.960058",
          "status": "completed"
        },
        "scrolled": true,
        "tags": []
      },
      "outputs": [
        {
          "name": "stdout",
          "output_type": "stream",
          "text": [
            "confusion matrix :\n",
            "493 7\n",
            "40 460\n",
            "precison: 0.986\n",
            "recall: 0.924953095684803\n",
            "F1 score:  0.9545014520813165\n",
            "accuracy: 0.953\n"
          ]
        }
      ],
      "source": [
        "tp = 0\n",
        "tn = 0\n",
        "fp = 0\n",
        "fn = 0\n",
        "\n",
        "for i in range(len(test_y)):\n",
        "    if pred_value[i] == 0 and true_value[i] == 0:\n",
        "        tp += 1\n",
        "    elif pred_value[i] == 1 and true_value[i] == 1:\n",
        "        tn += 1\n",
        "    elif pred_value[i] == 1 and true_value[i] == 0:\n",
        "        fp += 1\n",
        "        # print(\"NM\", i + 501)\n",
        "    else:\n",
        "        fn += 1\n",
        "        # print(\"WM\", i)\n",
        "\n",
        "recall = tp / (tp + fn)\n",
        "precision = tp / (tp + fp)\n",
        "score = 2 * recall * precision / (precision + recall)\n",
        "print(\"confusion matrix :\")\n",
        "print(tp, fp)\n",
        "print(fn, tn)\n",
        "print(\"precison:\", precision)\n",
        "print(\"recall:\", recall)\n",
        "print(\"F1 score: \",score)\n",
        "print(\"accuracy:\", (tp + tn) / (tp + tn + fp + fn))"
      ]
    }
  ],
  "metadata": {
    "accelerator": "GPU",
    "colab": {
      "collapsed_sections": [],
      "provenance": []
    },
    "kernelspec": {
      "display_name": "Python 3",
      "language": "python",
      "name": "python3"
    },
    "language_info": {
      "codemirror_mode": {
        "name": "ipython",
        "version": 3
      },
      "file_extension": ".py",
      "mimetype": "text/x-python",
      "name": "python",
      "nbconvert_exporter": "python",
      "pygments_lexer": "ipython3",
      "version": "3.9.9 (tags/v3.9.9:ccb0e6a, Nov 15 2021, 18:08:50) [MSC v.1929 64 bit (AMD64)]"
    },
    "papermill": {
      "default_parameters": {},
      "duration": 11.129471,
      "end_time": "2022-10-12T01:52:50.689284",
      "environment_variables": {},
      "exception": null,
      "input_path": "__notebook__.ipynb",
      "output_path": "__notebook__.ipynb",
      "parameters": {},
      "start_time": "2022-10-12T01:52:39.559813",
      "version": "2.3.4"
    },
    "vscode": {
      "interpreter": {
        "hash": "1e2607d6418436ceaa5f3ef9f912c4e813715fffc903072402518a9f9a7af419"
      }
    }
  },
  "nbformat": 4,
  "nbformat_minor": 5
}
